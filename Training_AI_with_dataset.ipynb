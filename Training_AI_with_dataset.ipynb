{
 "cells": [
  {
   "cell_type": "code",
   "execution_count": 1,
   "id": "72d16fb4",
   "metadata": {},
   "outputs": [],
   "source": [
    "#run data collection before this\n",
    "import numpy as np\n",
    "import cv2"
   ]
  },
  {
   "cell_type": "code",
   "execution_count": 2,
   "id": "dea931ba",
   "metadata": {},
   "outputs": [],
   "source": [
    "with_mask=np.load('with_mask.npy')\n",
    "without_mask=np.load('without_mask.npy')"
   ]
  },
  {
   "cell_type": "code",
   "execution_count": 3,
   "id": "f7fc3c7d",
   "metadata": {},
   "outputs": [
    {
     "data": {
      "text/plain": [
       "(200, 50, 50, 3)"
      ]
     },
     "execution_count": 3,
     "metadata": {},
     "output_type": "execute_result"
    }
   ],
   "source": [
    "with_mask.shape"
   ]
  },
  {
   "cell_type": "code",
   "execution_count": 4,
   "id": "54992adb",
   "metadata": {},
   "outputs": [
    {
     "data": {
      "text/plain": [
       "(200, 50, 50, 3)"
      ]
     },
     "execution_count": 4,
     "metadata": {},
     "output_type": "execute_result"
    }
   ],
   "source": [
    "without_mask.shape"
   ]
  },
  {
   "cell_type": "code",
   "execution_count": 5,
   "id": "933db46e",
   "metadata": {},
   "outputs": [],
   "source": [
    "with_mask=with_mask.reshape(200,50*50*3)\n",
    "without_mask=without_mask.reshape(200,50*50*3)"
   ]
  },
  {
   "cell_type": "code",
   "execution_count": 6,
   "id": "a5812544",
   "metadata": {},
   "outputs": [
    {
     "data": {
      "text/plain": [
       "(200, 7500)"
      ]
     },
     "execution_count": 6,
     "metadata": {},
     "output_type": "execute_result"
    }
   ],
   "source": [
    "with_mask.shape"
   ]
  },
  {
   "cell_type": "code",
   "execution_count": 7,
   "id": "5b3ffc29",
   "metadata": {},
   "outputs": [
    {
     "data": {
      "text/plain": [
       "(200, 7500)"
      ]
     },
     "execution_count": 7,
     "metadata": {},
     "output_type": "execute_result"
    }
   ],
   "source": [
    "without_mask.shape"
   ]
  },
  {
   "cell_type": "code",
   "execution_count": 8,
   "id": "a16877c4",
   "metadata": {},
   "outputs": [],
   "source": [
    "X=np.r_[with_mask,without_mask]"
   ]
  },
  {
   "cell_type": "code",
   "execution_count": 9,
   "id": "4ed6f3d8",
   "metadata": {},
   "outputs": [
    {
     "data": {
      "text/plain": [
       "(400, 7500)"
      ]
     },
     "execution_count": 9,
     "metadata": {},
     "output_type": "execute_result"
    }
   ],
   "source": [
    "X.shape"
   ]
  },
  {
   "cell_type": "code",
   "execution_count": 10,
   "id": "3977cba3",
   "metadata": {},
   "outputs": [],
   "source": [
    "labels = np.zeros(X.shape[0])"
   ]
  },
  {
   "cell_type": "code",
   "execution_count": 11,
   "id": "22b77d25",
   "metadata": {},
   "outputs": [],
   "source": [
    "labels[200:]=1.0"
   ]
  },
  {
   "cell_type": "code",
   "execution_count": 12,
   "id": "1920628a",
   "metadata": {},
   "outputs": [],
   "source": [
    "names={0 :'Mask',1: 'No mask'}"
   ]
  },
  {
   "cell_type": "code",
   "execution_count": 13,
   "id": "e1382aa9",
   "metadata": {},
   "outputs": [],
   "source": [
    "from sklearn.svm import SVC\n",
    "from sklearn.metrics import accuracy_score"
   ]
  },
  {
   "cell_type": "code",
   "execution_count": 14,
   "id": "dcb7145b",
   "metadata": {},
   "outputs": [],
   "source": [
    "from sklearn.model_selection import train_test_split"
   ]
  },
  {
   "cell_type": "code",
   "execution_count": 15,
   "id": "633d7247",
   "metadata": {},
   "outputs": [],
   "source": [
    "x_train,x_test,y_train,y_test=train_test_split(X,labels,test_size=0.25)"
   ]
  },
  {
   "cell_type": "code",
   "execution_count": 16,
   "id": "b9bdec5a",
   "metadata": {},
   "outputs": [
    {
     "data": {
      "text/plain": [
       "(300, 7500)"
      ]
     },
     "execution_count": 16,
     "metadata": {},
     "output_type": "execute_result"
    }
   ],
   "source": [
    "x_train.shape"
   ]
  },
  {
   "cell_type": "code",
   "execution_count": 17,
   "id": "ff20c705",
   "metadata": {},
   "outputs": [],
   "source": [
    "from sklearn.decomposition import PCA"
   ]
  },
  {
   "cell_type": "code",
   "execution_count": 18,
   "id": "b96bf9d9",
   "metadata": {},
   "outputs": [],
   "source": [
    "pca=PCA(n_components=3)\n",
    "x_train=pca.fit_transform(x_train)"
   ]
  },
  {
   "cell_type": "code",
   "execution_count": 19,
   "id": "782a536a",
   "metadata": {},
   "outputs": [
    {
     "data": {
      "text/plain": [
       "array([1178.29212721, 1280.97756927, -734.54621038])"
      ]
     },
     "execution_count": 19,
     "metadata": {},
     "output_type": "execute_result"
    }
   ],
   "source": [
    "x_train[0]"
   ]
  },
  {
   "cell_type": "code",
   "execution_count": 20,
   "id": "bd4cf200",
   "metadata": {},
   "outputs": [
    {
     "data": {
      "text/plain": [
       "(300, 3)"
      ]
     },
     "execution_count": 20,
     "metadata": {},
     "output_type": "execute_result"
    }
   ],
   "source": [
    "x_train.shape"
   ]
  },
  {
   "cell_type": "code",
   "execution_count": 21,
   "id": "c488e8ec",
   "metadata": {},
   "outputs": [],
   "source": [
    "x_train,x_test,y_train,y_test=train_test_split(X,labels,test_size=0.10)"
   ]
  },
  {
   "cell_type": "code",
   "execution_count": 22,
   "id": "d84432e0",
   "metadata": {},
   "outputs": [
    {
     "data": {
      "text/plain": [
       "(40, 7500)"
      ]
     },
     "execution_count": 22,
     "metadata": {},
     "output_type": "execute_result"
    }
   ],
   "source": [
    "x_test.shape"
   ]
  },
  {
   "cell_type": "code",
   "execution_count": 23,
   "id": "69c3a2da",
   "metadata": {},
   "outputs": [
    {
     "data": {
      "text/plain": [
       "SVC()"
      ]
     },
     "execution_count": 23,
     "metadata": {},
     "output_type": "execute_result"
    }
   ],
   "source": [
    "svm=SVC()\n",
    "svm.fit(x_train,y_train)"
   ]
  },
  {
   "cell_type": "code",
   "execution_count": 24,
   "id": "6aa58e85",
   "metadata": {},
   "outputs": [],
   "source": [
    "#x_test=pca.transform(x_test)\n",
    "y_pred=svm.predict(x_test)"
   ]
  },
  {
   "cell_type": "code",
   "execution_count": 25,
   "id": "34882263",
   "metadata": {},
   "outputs": [
    {
     "data": {
      "text/plain": [
       "1.0"
      ]
     },
     "execution_count": 25,
     "metadata": {},
     "output_type": "execute_result"
    }
   ],
   "source": [
    "accuracy_score(y_test,y_pred)"
   ]
  },
  {
   "cell_type": "code",
   "execution_count": 26,
   "id": "6603b2ad",
   "metadata": {
    "scrolled": true
   },
   "outputs": [],
   "source": [
    "def check_mask():\n",
    "    path_to_haar_data = r'E:\\Me\\UPES\\Hackathon\\CSA 1.0\\Face detector\\face_data.xml'\n",
    "    haar_data= cv2.CascadeClassifier(r''.join(path_to_haar_data))\n",
    "    capture=cv2.VideoCapture(0)\n",
    "    data=[]\n",
    "    while True:\n",
    "        flag,img=capture.read()\n",
    "        if flag:\n",
    "            faces=haar_data.detectMultiScale(img)\n",
    "            for x,y,w,h,in faces:\n",
    "                cv2.rectangle(img,(x,y),(x+w,y+h),(255,0,255),3)\n",
    "                face=img[y:y+h,x:x+w,:]\n",
    "                face=cv2.resize(face,(50,50))\n",
    "                face=face.reshape(1,-1)\n",
    "               # face=pca.transform(face)\n",
    "                pred=svm.predict(face)\n",
    "                n=names[int(pred)]\n",
    "                print(n)\n",
    "                data.append(n)\n",
    "            #cv2.imshow('result',img)\n",
    "            #if cv2.waitKey(2)==27: \n",
    "            if len(data) > 5:\n",
    "                break\n",
    "    capture.release()\n",
    "    cv2.destroyAllWindows()\n",
    "    count = 0\n",
    "    for result in data:\n",
    "        if result == \"Mask\":\n",
    "            count += 1\n",
    "    if (count < 3):\n",
    "        return(30) \n",
    "    else:\n",
    "        return(1800)"
   ]
  },
  {
   "cell_type": "code",
   "execution_count": null,
   "id": "360690a3",
   "metadata": {},
   "outputs": [
    {
     "name": "stdout",
     "output_type": "stream",
     "text": [
      "No mask\n",
      "No mask\n",
      "No mask\n",
      "No mask\n",
      "No mask\n",
      "No mask\n",
      "30\n",
      "No mask\n",
      "No mask\n",
      "No mask\n",
      "No mask\n",
      "No mask\n",
      "No mask\n",
      "30\n"
     ]
    }
   ],
   "source": [
    "def notify_mask(t):\n",
    "    print(t)\n",
    "    if t == -1:\n",
    "        return(print(\"Camera not detected, contact support.\"))\n",
    "    import time\n",
    "    from plyer import notification\n",
    "    time.sleep(t)\n",
    "    if t == 30:\n",
    "        notification.notify(title = \"ALERT\", message = \"Please wear a mask\", app_icon = r\"E:\\Me\\UPES\\Hackathon\\CSA 1.0\\Notification\\icon.ico\")\n",
    "        return\n",
    "    else:\n",
    "        notification.notify(title = \"ALERT\", message = \"Please confirm that you are wearing a mask.\", app_icon = r\"E:\\Me\\UPES\\Hackathon\\CSA 1.0\\Notification\\icon.ico\")\n",
    "        time.sleep(10)\n",
    "        return\n",
    "c = 0\n",
    "while c < 5:\n",
    "    notify_mask(check_mask())\n",
    "    c += 1"
   ]
  },
  {
   "cell_type": "code",
   "execution_count": 115,
   "id": "6d3b4dc1",
   "metadata": {},
   "outputs": [],
   "source": []
  },
  {
   "cell_type": "code",
   "execution_count": null,
   "id": "f2798bf3",
   "metadata": {},
   "outputs": [],
   "source": []
  },
  {
   "cell_type": "code",
   "execution_count": null,
   "id": "390c2cb3",
   "metadata": {},
   "outputs": [],
   "source": []
  }
 ],
 "metadata": {
  "kernelspec": {
   "display_name": "Python 3 (ipykernel)",
   "language": "python",
   "name": "python3"
  },
  "language_info": {
   "codemirror_mode": {
    "name": "ipython",
    "version": 3
   },
   "file_extension": ".py",
   "mimetype": "text/x-python",
   "name": "python",
   "nbconvert_exporter": "python",
   "pygments_lexer": "ipython3",
   "version": "3.10.3"
  }
 },
 "nbformat": 4,
 "nbformat_minor": 5
}
